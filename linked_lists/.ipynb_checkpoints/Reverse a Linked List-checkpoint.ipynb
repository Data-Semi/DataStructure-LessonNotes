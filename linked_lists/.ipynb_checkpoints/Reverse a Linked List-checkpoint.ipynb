{
 "cells": [
  {
   "cell_type": "markdown",
   "metadata": {
    "graffitiCellId": "id_cead7md"
   },
   "source": [
    "# Reversing a linked list exercise\n",
    "\n",
    "Given a singly linked list, return another linked list that is the reverse of the first."
   ]
  },
  {
   "cell_type": "code",
   "execution_count": 3,
   "metadata": {
    "graffitiCellId": "id_hitzgz4"
   },
   "outputs": [],
   "source": [
    "# Helper Code\n",
    "\n",
    "class Node:\n",
    "    def __init__(self, value):\n",
    "        self.value = value\n",
    "        self.next = None\n",
    "\n",
    "class LinkedList:\n",
    "    def __init__(self):\n",
    "        self.head = None\n",
    "        \n",
    "    def append(self, value):\n",
    "        if self.head is None:\n",
    "            self.head = Node(value)\n",
    "            return\n",
    "        \n",
    "        node = self.head\n",
    "        while node.next:\n",
    "            node = node.next\n",
    "\n",
    "        node.next = Node(value)\n",
    "        \n",
    "    def __iter__(self):\n",
    "        node = self.head\n",
    "        while node:\n",
    "            yield node.value\n",
    "            node = node.next\n",
    "            \n",
    "    def __repr__(self):\n",
    "        return str([v for v in self])"
   ]
  },
  {
   "cell_type": "markdown",
   "metadata": {
    "graffitiCellId": "id_uhfa8px"
   },
   "source": [
    "### Write the function definition here"
   ]
  },
  {
   "cell_type": "code",
   "execution_count": 8,
   "metadata": {
    "graffitiCellId": "id_lohit3u"
   },
   "outputs": [],
   "source": [
    "def reverse(linked_list):\n",
    "    \"\"\"\n",
    "    Reverse the inputted linked list\n",
    "\n",
    "    Args:\n",
    "       linked_list(obj): Linked List to be reversed\n",
    "    Returns:\n",
    "       obj: Reveresed Linked List\n",
    "    \"\"\"\n",
    "    node = head_node = linked_list.head\n",
    "    revlist = LinkedList()\n",
    "    last_node = None\n",
    "    while last_node is not head_node:\n",
    "        while node.next:  # get the tail node\n",
    "            last_node = node\n",
    "            node = node.next\n",
    "        revlist.append(node.value)\n",
    "        last_node.next = None  # tail node will become prev_node\n",
    "        node = head_node  # restart the search tail\n",
    "    revlist.append(head_node.value)\n",
    "    \n",
    "    # TODO: Write your function to reverse linked lists here\n",
    "    return revlist"
   ]
  },
  {
   "cell_type": "code",
   "execution_count": 18,
   "metadata": {},
   "outputs": [
    {
     "data": {
      "text/plain": [
       "[0, -3, 1, 5, 2, 4]"
      ]
     },
     "execution_count": 18,
     "metadata": {},
     "output_type": "execute_result"
    }
   ],
   "source": [
    "llist = LinkedList()\n",
    "for value in [4,2,5,1,-3,0]:\n",
    "    llist.append(value)\n",
    "flipped = reverse(llist)\n",
    "list(flipped)"
   ]
  },
  {
   "cell_type": "code",
   "execution_count": 19,
   "metadata": {},
   "outputs": [
    {
     "data": {
      "text/plain": [
       "[4, 2, 5, 1, -3, 0]"
      ]
     },
     "execution_count": 19,
     "metadata": {},
     "output_type": "execute_result"
    }
   ],
   "source": [
    "list(reverse(flipped))"
   ]
  },
  {
   "cell_type": "code",
   "execution_count": 15,
   "metadata": {
    "scrolled": true
   },
   "outputs": [
    {
     "data": {
      "text/plain": [
       "[0, -3, 1, 5, 2, 4]"
      ]
     },
     "execution_count": 15,
     "metadata": {},
     "output_type": "execute_result"
    }
   ],
   "source": [
    "list([0,-3,1,5,2,4])"
   ]
  },
  {
   "cell_type": "code",
   "execution_count": 17,
   "metadata": {},
   "outputs": [
    {
     "data": {
      "text/plain": [
       "False"
      ]
     },
     "execution_count": 17,
     "metadata": {},
     "output_type": "execute_result"
    }
   ],
   "source": [
    "list(flipped) == list([0,-3,1,5,2,4])"
   ]
  },
  {
   "cell_type": "markdown",
   "metadata": {
    "graffitiCellId": "id_imzm0sv"
   },
   "source": [
    "### Let's test your function"
   ]
  },
  {
   "cell_type": "code",
   "execution_count": 9,
   "metadata": {
    "graffitiCellId": "id_xm503ob"
   },
   "outputs": [
    {
     "name": "stdout",
     "output_type": "stream",
     "text": [
      "Fail\n"
     ]
    }
   ],
   "source": [
    "llist = LinkedList()\n",
    "for value in [4,2,5,1,-3,0]:\n",
    "    llist.append(value)\n",
    "\n",
    "flipped = reverse(llist)\n",
    "is_correct = list(flipped) == list([0,-3,1,5,2,4]) and list(llist) == list(reverse(flipped))\n",
    "print(\"Pass\" if is_correct else \"Fail\")"
   ]
  },
  {
   "cell_type": "markdown",
   "metadata": {
    "graffitiCellId": "id_0gw081c"
   },
   "source": [
    "<span class=\"graffiti-highlight graffiti-id_0gw081c-id_dmb7r0h\"><i></i><button>Show Solution</button></span>"
   ]
  },
  {
   "cell_type": "code",
   "execution_count": null,
   "metadata": {
    "graffitiCellId": "id_r6i1ug2"
   },
   "outputs": [],
   "source": []
  }
 ],
 "metadata": {
  "graffiti": {
   "firstAuthorId": "10694620118",
   "id": "id_dvlxolz",
   "language": "EN"
  },
  "kernelspec": {
   "display_name": "Python 3",
   "language": "python",
   "name": "python3"
  },
  "language_info": {
   "codemirror_mode": {
    "name": "ipython",
    "version": 3
   },
   "file_extension": ".py",
   "mimetype": "text/x-python",
   "name": "python",
   "nbconvert_exporter": "python",
   "pygments_lexer": "ipython3",
   "version": "3.7.7"
  }
 },
 "nbformat": 4,
 "nbformat_minor": 2
}
