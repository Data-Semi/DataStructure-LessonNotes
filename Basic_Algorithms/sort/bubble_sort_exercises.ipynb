{
 "cells": [
  {
   "cell_type": "markdown",
   "metadata": {
    "graffitiCellId": "id_cje9nsj"
   },
   "source": [
    "# Bubble Sort Exercises\n",
    "Now that you know how about bubble sort works, you'll implement bubble sort for two exercises."
   ]
  },
  {
   "cell_type": "markdown",
   "metadata": {
    "graffitiCellId": "id_t9tqtch"
   },
   "source": [
    "## Exercise 1"
   ]
  },
  {
   "cell_type": "markdown",
   "metadata": {
    "graffitiCellId": "id_gqzp0au"
   },
   "source": [
    "Sam records when they wake up every morning. Assuming Sam always wakes up in the same hour, use bubble sort to sort by earliest to latest.\n",
    "\n"
   ]
  },
  {
   "cell_type": "code",
   "execution_count": 17,
   "metadata": {
    "graffitiCellId": "id_5lff1yj",
    "scrolled": false
   },
   "outputs": [
    {
     "name": "stdout",
     "output_type": "stream",
     "text": [
      "Pass\n"
     ]
    }
   ],
   "source": [
    "wakeup_times = [16,49,3,12,56,49,55,22,13,46,19,55,46,13,25,56,9,48,45]\n",
    "def bubble_sort_1(my_list):\n",
    "    # TODO: Implement bubble sort solution\n",
    "    # if an element moved to the end of the array, we need to refresh the end position of compare\n",
    "    end = len(my_list) - 1\n",
    "    while end > 0 : # the sub_array is not null\n",
    "        k = 0  # the index of first element moved to\n",
    "        switched_end = 0\n",
    "        while k < end:  # compare and switch untill the end of sub_array \n",
    "            if my_list[k] > my_list[k+1]:\n",
    "                my_list[k], my_list[k+1] = my_list[k+1], my_list[k]\n",
    "                switched_end = k + 1\n",
    "            k += 1\n",
    "        if switched_end == end:  # reach the end\n",
    "            end = end - 1\n",
    "        if switched_end == 0: # the list has been sorted\n",
    "            break\n",
    "    print(my_list)\n",
    "    \n",
    "\n",
    "bubble_sort_1(wakeup_times)\n",
    "print (\"Pass\" if (wakeup_times[0] == 3) else \"Fail\")"
   ]
  },
  {
   "cell_type": "markdown",
   "metadata": {
    "graffitiCellId": "id_y26wn0b"
   },
   "source": [
    "<span class=\"graffiti-highlight graffiti-id_y26wn0b-id_uppmlq4\"><i></i><button>Show Solution</button></span>"
   ]
  },
  {
   "cell_type": "markdown",
   "metadata": {
    "graffitiCellId": "id_qeyh6km"
   },
   "source": [
    "## Exercise 2"
   ]
  },
  {
   "cell_type": "markdown",
   "metadata": {
    "graffitiCellId": "id_yapmadk"
   },
   "source": [
    "Sam doesn't always go to sleep in the same hour. Given the following times Sam has gone to sleep, sort the times from latest to earliest."
   ]
  },
  {
   "cell_type": "code",
   "execution_count": 15,
   "metadata": {
    "graffitiCellId": "id_dx34e9v"
   },
   "outputs": [
    {
     "name": "stdout",
     "output_type": "stream",
     "text": [
      "6\n",
      "(21, 55) (23, 20)\n",
      "(23, 20) (21, 55)\n",
      "(21, 55) (22, 5)\n",
      "(22, 5) (21, 55)\n",
      "(21, 55) (24, 23)\n",
      "(24, 23) (21, 55)\n",
      "(21, 55) (21, 58)\n",
      "(21, 58) (21, 55)\n",
      "(21, 55) (24, 3)\n",
      "(24, 3) (21, 55)\n",
      "5\n",
      "(22, 5) (24, 23)\n",
      "(24, 23) (22, 5)\n",
      "(21, 58) (24, 3)\n",
      "(24, 3) (21, 58)\n",
      "4\n",
      "(23, 20) (24, 23)\n",
      "(24, 23) (23, 20)\n",
      "(22, 5) (24, 3)\n",
      "(24, 3) (22, 5)\n",
      "3\n",
      "(24, 13) (24, 23)\n",
      "(24, 23) (24, 13)\n",
      "(23, 20) (24, 3)\n",
      "(24, 3) (23, 20)\n",
      "2\n",
      "[(24, 23), (24, 13), (24, 3), (23, 20), (22, 5), (21, 58), (21, 55)]\n",
      "Pass\n"
     ]
    }
   ],
   "source": [
    "# Entries are (h, m) where h is the hour and m is the minute\n",
    "sleep_times = [(24,13), (21,55), (23,20), (22,5), (24,23), (21,58), (24,3)]\n",
    "\n",
    "# difference from the bubble_sort_2 is only the compare part\n",
    "def bubble_sort_2(my_list):  \n",
    "    # TODO: Implement bubble sort solution\n",
    "    # if an element moved to the end of the array, we need to refresh the end position of compare\n",
    "    end = len(my_list) - 1\n",
    "    while end > 0 : # the sub_array is not null\n",
    "        print(end)\n",
    "        k = 0  # the index of first element moved to\n",
    "        switched_end = 0\n",
    "        while k < end:  # compare and switch untill the end of sub_array \n",
    "            if my_list[k][0] < my_list[k+1][0] or (my_list[k][0] == my_list[k+1][0] and  my_list[k][1] < my_list[k+1][1]):\n",
    "                print( my_list[k],  my_list[k+1])\n",
    "                my_list[k], my_list[k+1] = my_list[k+1], my_list[k]\n",
    "                print( my_list[k],  my_list[k+1])\n",
    "                switched_end = k + 1\n",
    "            k += 1\n",
    "        if switched_end == end:  # reach the end\n",
    "            end = end - 1\n",
    "        if switched_end == 0: # the list has been sorted\n",
    "            break\n",
    "    print(my_list)\n",
    "\n",
    "bubble_sort_2(sleep_times)\n",
    "print (\"Pass\" if (sleep_times == [(24,23), (24,13), (24,3), (23,20), (22,5), (21,58), (21,55)]) else \"Fail\")"
   ]
  },
  {
   "cell_type": "markdown",
   "metadata": {
    "graffitiCellId": "id_f6s1i29"
   },
   "source": [
    "<span class=\"graffiti-highlight graffiti-id_f6s1i29-id_hxr8nmt\"><i></i><button>Show Solution</button></span>"
   ]
  }
 ],
 "metadata": {
  "graffiti": {
   "firstAuthorId": "10694620118",
   "id": "id_0hd22kb",
   "language": "EN"
  },
  "kernelspec": {
   "display_name": "Python 3",
   "language": "python",
   "name": "python3"
  },
  "language_info": {
   "codemirror_mode": {
    "name": "ipython",
    "version": 3
   },
   "file_extension": ".py",
   "mimetype": "text/x-python",
   "name": "python",
   "nbconvert_exporter": "python",
   "pygments_lexer": "ipython3",
   "version": "3.7.7"
  }
 },
 "nbformat": 4,
 "nbformat_minor": 2
}
