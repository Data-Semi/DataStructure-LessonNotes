{
 "cells": [
  {
   "cell_type": "markdown",
   "metadata": {
    "graffitiCellId": "id_ner1upo"
   },
   "source": [
    "# Counting Inversions\n",
    "\n",
    "The number of *inversions* in a disordered list is the number of pairs of elements that are inverted (out of order) in the list.  \n",
    "\n",
    "Here are some examples: \n",
    "  - [0,1] has 0 inversions\n",
    "  - [2,1] has 1 inversion (2,1)\n",
    "  - [3, 1, 2, 4] has 2 inversions (3, 2), (3, 1)\n",
    "  - [7, 5, 3, 1] has 6 inversions (7, 5), (3, 1), (5, 1), (7, 1), (5, 3), (7, 3)\n",
    "  \n",
    "The number of inversions can also be thought of in the following manner. \n",
    "\n",
    ">Given an array `arr[0 ... n-1]` of `n` distinct positive integers, for indices `i and j`, if `i < j` and `arr[i] > arr[j]` then the pair `(i, j)` is called an inversion of `arr`.\n",
    "\n",
    "## Problem statement\n",
    "\n",
    "Write a function, `count_inversions`, that takes an array (or Python list) as input, and returns a count of the total number of inversions present in the input.\n",
    "\n",
    "Mergesort provides an efficient way to solve this problem."
   ]
  },
  {
   "cell_type": "code",
   "execution_count": 17,
   "metadata": {
    "graffitiCellId": "id_jf6a5ys"
   },
   "outputs": [],
   "source": [
    "def count_inversions(arr):\n",
    "    # TODO: Complete this function\n",
    "    if len(arr)<=1:\n",
    "        return 0\n",
    "    mid_index = len(arr)//2\n",
    "    left = arr[:mid_index]\n",
    "    right = arr[mid_index:]\n",
    "    counted_left  = count_inversions(left)\n",
    "    counted_right = count_inversions(right)\n",
    "    count_combine = combine_count_inversions(left,right)\n",
    "    counted = count_combine + counted_left + counted_right\n",
    "    print(counted)\n",
    "    return counted\n",
    "    \n",
    "def combine_count_inversions(left,right):\n",
    "    count = 0\n",
    "    print(left,right)\n",
    "    for i in range(len(left)):\n",
    "        for j in range(len(right)):\n",
    "            print(left[i], right[j])\n",
    "            if left[i] > right[j]:\n",
    "                count += 1\n",
    "    return count\n"
   ]
  },
  {
   "cell_type": "markdown",
   "metadata": {
    "graffitiCellId": "id_8809fp2"
   },
   "source": [
    "<span class=\"graffiti-highlight graffiti-id_8809fp2-id_8br31oi\"><i></i><button>Show Solution</button></span>"
   ]
  },
  {
   "cell_type": "code",
   "execution_count": 18,
   "metadata": {
    "graffitiCellId": "id_l6xh0rg"
   },
   "outputs": [],
   "source": [
    "def test_function(test_case):\n",
    "    arr = test_case[0]\n",
    "    solution = test_case[1]\n",
    "    if count_inversions(arr) == solution:\n",
    "        print(\"Pass\")\n",
    "    else:\n",
    "        print(\"Fail\")\n"
   ]
  },
  {
   "cell_type": "code",
   "execution_count": 19,
   "metadata": {
    "graffitiCellId": "id_4aqr272"
   },
   "outputs": [
    {
     "name": "stdout",
     "output_type": "stream",
     "text": [
      "[2] [5]\n",
      "2 5\n",
      "0\n",
      "[3] [4]\n",
      "3 4\n",
      "0\n",
      "[1] [3, 4]\n",
      "1 3\n",
      "1 4\n",
      "0\n",
      "[2, 5] [1, 3, 4]\n",
      "2 1\n",
      "2 3\n",
      "2 4\n",
      "5 1\n",
      "5 3\n",
      "5 4\n",
      "4\n",
      "Pass\n"
     ]
    }
   ],
   "source": [
    "arr = [2, 5, 1, 3, 4]\n",
    "solution = 4\n",
    "test_case = [arr, solution]\n",
    "test_function(test_case)"
   ]
  },
  {
   "cell_type": "code",
   "execution_count": 21,
   "metadata": {},
   "outputs": [
    {
     "name": "stdout",
     "output_type": "stream",
     "text": [
      "range(0, 3)\n"
     ]
    }
   ],
   "source": []
  },
  {
   "cell_type": "code",
   "execution_count": 22,
   "metadata": {
    "graffitiCellId": "id_0sqy9z2"
   },
   "outputs": [
    {
     "name": "stdout",
     "output_type": "stream",
     "text": [
      "[54] [99]\n",
      "54 99\n",
      "0\n",
      "[22] [37]\n",
      "22 37\n",
      "0\n",
      "[49] [22, 37]\n",
      "49 22\n",
      "49 37\n",
      "2\n",
      "[54, 99] [49, 22, 37]\n",
      "54 49\n",
      "54 22\n",
      "54 37\n",
      "99 49\n",
      "99 22\n",
      "99 37\n",
      "8\n",
      "[18] [22]\n",
      "18 22\n",
      "0\n",
      "[86] [33]\n",
      "86 33\n",
      "1\n",
      "[90] [86, 33]\n",
      "90 86\n",
      "90 33\n",
      "3\n",
      "[18, 22] [90, 86, 33]\n",
      "18 90\n",
      "18 86\n",
      "18 33\n",
      "22 90\n",
      "22 86\n",
      "22 33\n",
      "3\n",
      "[54, 99, 49, 22, 37] [18, 22, 90, 86, 33]\n",
      "54 18\n",
      "54 22\n",
      "54 90\n",
      "54 86\n",
      "54 33\n",
      "99 18\n",
      "99 22\n",
      "99 90\n",
      "99 86\n",
      "99 33\n",
      "49 18\n",
      "49 22\n",
      "49 90\n",
      "49 86\n",
      "49 33\n",
      "22 18\n",
      "22 22\n",
      "22 90\n",
      "22 86\n",
      "22 33\n",
      "37 18\n",
      "37 22\n",
      "37 90\n",
      "37 86\n",
      "37 33\n",
      "26\n",
      "Pass\n"
     ]
    }
   ],
   "source": [
    "arr = [54, 99, 49, 22, 37, 18, 22, 90, 86, 33]\n",
    "solution = 26\n",
    "test_case = [arr, solution]\n",
    "test_function(test_case)"
   ]
  },
  {
   "cell_type": "code",
   "execution_count": 23,
   "metadata": {
    "graffitiCellId": "id_s5l67ma"
   },
   "outputs": [
    {
     "name": "stdout",
     "output_type": "stream",
     "text": [
      "[1] [2]\n",
      "1 2\n",
      "0\n",
      "[2] [3]\n",
      "2 3\n",
      "0\n",
      "[4] [2, 3]\n",
      "4 2\n",
      "4 3\n",
      "2\n",
      "[1, 2] [4, 2, 3]\n",
      "1 4\n",
      "1 2\n",
      "1 3\n",
      "2 4\n",
      "2 2\n",
      "2 3\n",
      "2\n",
      "[11] [22]\n",
      "11 22\n",
      "0\n",
      "[108] [389]\n",
      "108 389\n",
      "0\n",
      "[99] [108, 389]\n",
      "99 108\n",
      "99 389\n",
      "0\n",
      "[11, 22] [99, 108, 389]\n",
      "11 99\n",
      "11 108\n",
      "11 389\n",
      "22 99\n",
      "22 108\n",
      "22 389\n",
      "0\n",
      "[1, 2, 4, 2, 3] [11, 22, 99, 108, 389]\n",
      "1 11\n",
      "1 22\n",
      "1 99\n",
      "1 108\n",
      "1 389\n",
      "2 11\n",
      "2 22\n",
      "2 99\n",
      "2 108\n",
      "2 389\n",
      "4 11\n",
      "4 22\n",
      "4 99\n",
      "4 108\n",
      "4 389\n",
      "2 11\n",
      "2 22\n",
      "2 99\n",
      "2 108\n",
      "2 389\n",
      "3 11\n",
      "3 22\n",
      "3 99\n",
      "3 108\n",
      "3 389\n",
      "2\n",
      "Pass\n"
     ]
    }
   ],
   "source": [
    "arr = [1, 2, 4, 2, 3, 11, 22, 99, 108, 389]\n",
    "solution = 2\n",
    "test_case = [arr, solution]\n",
    "test_function(test_case)"
   ]
  },
  {
   "cell_type": "code",
   "execution_count": null,
   "metadata": {},
   "outputs": [],
   "source": [
    "Compare to the solution has been given.\n",
    "The solution is merge sorting the original array, it will save time maximumly when the given array is a sorted array. \n",
    "This is because, merge sort will stop loop when left or right side array has been exhausted.\n",
    "Therefore, the time complexity of my solution is worse than the given solution when the given array is almost sorted.\n",
    "The space complexity is O(1), this is better than the given solution which has O(n) for the auxillary space."
   ]
  }
 ],
 "metadata": {
  "graffiti": {
   "firstAuthorId": "dev",
   "id": "id_2rhwg9e",
   "language": "EN"
  },
  "kernelspec": {
   "display_name": "Python 3",
   "language": "python",
   "name": "python3"
  },
  "language_info": {
   "codemirror_mode": {
    "name": "ipython",
    "version": 3
   },
   "file_extension": ".py",
   "mimetype": "text/x-python",
   "name": "python",
   "nbconvert_exporter": "python",
   "pygments_lexer": "ipython3",
   "version": "3.7.7"
  }
 },
 "nbformat": 4,
 "nbformat_minor": 2
}
