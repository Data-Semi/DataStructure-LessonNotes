{
 "cells": [
  {
   "cell_type": "markdown",
   "metadata": {
    "graffitiCellId": "id_9vap74c"
   },
   "source": [
    "### Problem Statement\n",
    "\n",
    "You have been given an array containg numbers. Find and return the largest sum in a contiguous subarray within the input array.\n",
    "\n",
    "**Example 1:**\n",
    "* `arr= [1, 2, 3, -4, 6]`\n",
    "* The largest sum is `8`, which is the sum of all elements of the array.\n",
    "\n",
    "**Example 2:**\n",
    "* `arr = [1, 2, -5, -4, 1, 6]`\n",
    "* The largest sum is `7`, which is the sum of the last two elements of the array.\n",
    "\n",
    "\n",
    "\n",
    " "
   ]
  },
  {
   "cell_type": "code",
   "execution_count": 6,
   "metadata": {
    "graffitiCellId": "id_ok5cosl"
   },
   "outputs": [],
   "source": [
    "def max_sum_subarray(arr):\n",
    "    \"\"\"\n",
    "    :param - arr - input array\n",
    "    return - number - largest sum in contiguous subarry within arr\n",
    "    \"\"\"\n",
    "    window = 1\n",
    "    max_sum = arr[0]  # initial number\n",
    "    for window in range(1,len(arr)+1):\n",
    "        for s_pos in range (0, len(arr)+1-window):  # e.g. arr = [0 ,1, 2] ,window == 1 : the s_pos range will be [0, 1, 2]\n",
    "                                                    # e.g. arr = [0 ,1, 2] ,window == 2 : the s_pos range will be [0, 1]\n",
    "            sum = 0\n",
    "            for i in range(s_pos, s_pos + window):\n",
    "                sum += arr[i]\n",
    "                if sum > max_sum:\n",
    "                    max_sum = sum  # refresh the maximun sum\n",
    "    return max_sum\n",
    "            "
   ]
  },
  {
   "cell_type": "code",
   "execution_count": 21,
   "metadata": {},
   "outputs": [],
   "source": [
    "def max_sum_subarray_sol(arr):\n",
    "    \n",
    "    current_sum = arr[0] # `current_sum` denotes the sum of a subarray\n",
    "    max_sum = arr[0]     # `max_sum` denotes the maximum value of `current_sum` ever\n",
    "    \n",
    "    # Loop from VALUE at index position 1 till the end of the array\n",
    "    for element in arr[1:]:\n",
    "        \n",
    "        '''\n",
    "        # Compare (current_sum + element) vs (element)\n",
    "        # If (current_sum + element) is higher, it denotes the addition of the element to the current subarray\n",
    "        # If (element) alone is higher, it denotes the starting of a new subarray\n",
    "        '''\n",
    "        current_sum = max(current_sum + element, element)\n",
    "        \n",
    "        # Update (overwrite) `max_sum`, if it is lower than the updated `current_sum`\n",
    "        max_sum = max(current_sum, max_sum)   \n",
    "        print(element, current_sum, max_sum)\n",
    "    \n",
    "    return max_sum"
   ]
  },
  {
   "cell_type": "markdown",
   "metadata": {
    "graffitiCellId": "id_qy59phn"
   },
   "source": [
    "<span class=\"graffiti-highlight graffiti-id_qy59phn-id_3hqoizc\"><i></i><button>Show Solution</button></span>"
   ]
  },
  {
   "cell_type": "code",
   "execution_count": 22,
   "metadata": {
    "graffitiCellId": "id_x2c4yaf"
   },
   "outputs": [],
   "source": [
    "def test_function(test_case):\n",
    "    arr = test_case[0]\n",
    "    solution = test_case[1]\n",
    "    \n",
    "    output = max_sum_subarray_sol(arr)\n",
    "    if output == solution:\n",
    "        print(\"Pass\")\n",
    "    else:\n",
    "        print(\"Fail\")"
   ]
  },
  {
   "cell_type": "code",
   "execution_count": 23,
   "metadata": {
    "graffitiCellId": "id_ocg7bal"
   },
   "outputs": [
    {
     "name": "stdout",
     "output_type": "stream",
     "text": [
      "2 3 3\n",
      "3 6 6\n",
      "-4 2 6\n",
      "6 8 8\n",
      "Pass\n"
     ]
    }
   ],
   "source": [
    "arr= [1, 2, 3, -4, 6]\n",
    "solution= 8 # sum of array\n",
    "\n",
    "test_case = [arr, solution]\n",
    "test_function(test_case)"
   ]
  },
  {
   "cell_type": "code",
   "execution_count": 24,
   "metadata": {
    "graffitiCellId": "id_vepfpek"
   },
   "outputs": [
    {
     "name": "stdout",
     "output_type": "stream",
     "text": [
      "2 3 3\n",
      "-5 -2 3\n",
      "-4 -4 3\n",
      "1 1 3\n",
      "6 7 7\n",
      "Pass\n"
     ]
    }
   ],
   "source": [
    "arr = [1, 2, -5, -4, 1, 6]\n",
    "solution = 7   # sum of last two elements\n",
    "\n",
    "test_case = [arr, solution]\n",
    "test_function(test_case)"
   ]
  },
  {
   "cell_type": "code",
   "execution_count": 25,
   "metadata": {
    "graffitiCellId": "id_78na1mt"
   },
   "outputs": [
    {
     "name": "stdout",
     "output_type": "stream",
     "text": [
      "15 15 15\n",
      "-13 2 15\n",
      "14 16 16\n",
      "-1 15 16\n",
      "2 17 17\n",
      "1 18 18\n",
      "-5 13 18\n",
      "4 17 18\n",
      "Pass\n"
     ]
    }
   ],
   "source": [
    "arr = [-12, 15, -13, 14, -1, 2, 1, -5, 4]\n",
    "solution = 18  # sum of subarray = [15, -13, 14, -1, 2, 1]\n",
    "\n",
    "test_case = [arr, solution]\n",
    "test_function(test_case)"
   ]
  },
  {
   "cell_type": "code",
   "execution_count": 27,
   "metadata": {
    "graffitiCellId": "id_78na1mt"
   },
   "outputs": [
    {
     "name": "stdout",
     "output_type": "stream",
     "text": [
      "1 2 2\n",
      "1 3 3\n",
      "-4 -1 3\n",
      "-5 -5 3\n",
      "2 2 3\n",
      "2 4 4\n",
      "Pass\n"
     ]
    }
   ],
   "source": [
    "arr = [1,1,1,-4,-5,2,2]\n",
    "solution = 4  # sum of subarray = [15, -13, 14, -1, 2, 1]\n",
    "\n",
    "test_case = [arr, solution]\n",
    "test_function(test_case)"
   ]
  },
  {
   "cell_type": "code",
   "execution_count": null,
   "metadata": {},
   "outputs": [],
   "source": []
  }
 ],
 "metadata": {
  "graffiti": {
   "firstAuthorId": "dev",
   "id": "id_jzh7rvz",
   "language": "EN"
  },
  "kernelspec": {
   "display_name": "Python 3",
   "language": "python",
   "name": "python3"
  },
  "language_info": {
   "codemirror_mode": {
    "name": "ipython",
    "version": 3
   },
   "file_extension": ".py",
   "mimetype": "text/x-python",
   "name": "python",
   "nbconvert_exporter": "python",
   "pygments_lexer": "ipython3",
   "version": "3.7.7"
  }
 },
 "nbformat": 4,
 "nbformat_minor": 2
}
