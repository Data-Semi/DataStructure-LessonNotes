{
 "cells": [
  {
   "cell_type": "markdown",
   "metadata": {
    "graffitiCellId": "id_46ikwkw"
   },
   "source": [
    "### Problem Statement\n",
    "\n",
    "\n",
    "Given an integer array, find and return all the subsets of the array.\n",
    "The order of subsets in the output array is not important. However the order of elements in a particular subset should remain the same as in the input array.\n",
    "\n",
    "**Note**: \n",
    "- An empty set will be represented by an empty list.\n",
    "- If there are repeat integers, each occurrence must be treated as a separate entity.\n",
    "\n",
    "**Example 1**\n",
    "\n",
    "```\n",
    "arr = [9, 9]\n",
    "\n",
    "output = [[],\n",
    "          [9],\n",
    "          [9],\n",
    "          [9, 9]]\n",
    "```\n",
    "\n",
    "**Example 2**\n",
    "\n",
    "```\n",
    "arr = [9, 12, 15]\n",
    "\n",
    "output =  [[],\n",
    "           [15],\n",
    "           [12],\n",
    "           [12, 15],\n",
    "           [9],\n",
    "           [9, 15],\n",
    "           [9, 12],\n",
    "           [9, 12, 15]]\n",
    "```"
   ]
  },
  {
   "cell_type": "code",
   "execution_count": 139,
   "metadata": {
    "graffitiCellId": "id_ednyqq0"
   },
   "outputs": [],
   "source": [
    "import copy\n",
    "def subsets(arr):\n",
    "    \"\"\"\n",
    "    :param: arr - input integer array\n",
    "    Return - list of lists (two dimensional array) where each list represents a subset\n",
    "    TODO: complete this method to return subsets of an array\n",
    "    \"\"\"\n",
    "    output = []\n",
    "    # base condition\n",
    "    if len(arr)==0:\n",
    "        print(arr)\n",
    "        return [[]]\n",
    "    else:\n",
    "        first_item = list()\n",
    "        first_item.append(arr[0])\n",
    "        others = arr[1:]\n",
    "        small_output = subsets(others)\n",
    "        print(\"small output:\", small_output)\n",
    "        output.extend(small_output[:])\n",
    "        output.append(first_item)\n",
    "\n",
    "        print(\"before insert:---\",output)\n",
    "        \n",
    "        for item_list in small_output:\n",
    "            print(\"item_list before insert:\",item_list)\n",
    "            if item_list != []:\n",
    "                current = list()\n",
    "                current.append(arr[0])\n",
    "                current.extend(item_list)\n",
    "                output.append(current)\n",
    "                print(\"just after append, output:\",output)\n",
    "    print(\"output:\",output)\n",
    "    return output        \n"
   ]
  },
  {
   "cell_type": "markdown",
   "metadata": {
    "graffitiCellId": "id_u30cq9y"
   },
   "source": [
    "<span class=\"graffiti-highlight graffiti-id_u30cq9y-id_2p8ft48\"><i></i><button>Show Solution</button></span>"
   ]
  },
  {
   "cell_type": "code",
   "execution_count": 140,
   "metadata": {
    "graffitiCellId": "id_lov2dw6"
   },
   "outputs": [],
   "source": [
    "def test_function(test_case):\n",
    "    arr = test_case[0]\n",
    "    solution = test_case[1]\n",
    "    \n",
    "    output = subsets(arr)\n",
    "    print(output)\n",
    "    output.sort()\n",
    "    solution.sort()\n",
    "    \n",
    "    if output == solution:\n",
    "        print(\"Pass\")\n",
    "    else:\n",
    "        print(\"Fail\")    "
   ]
  },
  {
   "cell_type": "code",
   "execution_count": 141,
   "metadata": {
    "graffitiCellId": "id_vtr8t48"
   },
   "outputs": [
    {
     "name": "stdout",
     "output_type": "stream",
     "text": [
      "[]\n",
      "small output: [[]]\n",
      "before insert:--- [[], [9]]\n",
      "item_list before insert: []\n",
      "output: [[], [9]]\n",
      "[[], [9]]\n",
      "Pass\n"
     ]
    }
   ],
   "source": [
    "arr = [9]\n",
    "solution = [[], [9]]\n",
    "\n",
    "test_case = [arr, solution]\n",
    "test_function(test_case)"
   ]
  },
  {
   "cell_type": "code",
   "execution_count": 142,
   "metadata": {
    "graffitiCellId": "id_hox5lyf"
   },
   "outputs": [
    {
     "name": "stdout",
     "output_type": "stream",
     "text": [
      "[]\n",
      "small output: [[]]\n",
      "before insert:--- [[], [7]]\n",
      "item_list before insert: []\n",
      "output: [[], [7]]\n",
      "small output: [[], [7]]\n",
      "before insert:--- [[], [7], [5]]\n",
      "item_list before insert: []\n",
      "item_list before insert: [7]\n",
      "just after append, output: [[], [7], [5], [5, 7]]\n",
      "output: [[], [7], [5], [5, 7]]\n",
      "[[], [7], [5], [5, 7]]\n",
      "Pass\n"
     ]
    }
   ],
   "source": [
    "arr = [5, 7]\n",
    "solution = [[], [7], [5], [5, 7]]\n",
    "test_case = [arr, solution]\n",
    "test_function(test_case)"
   ]
  },
  {
   "cell_type": "code",
   "execution_count": 143,
   "metadata": {
    "graffitiCellId": "id_ufx2e38"
   },
   "outputs": [
    {
     "name": "stdout",
     "output_type": "stream",
     "text": [
      "[]\n",
      "small output: [[]]\n",
      "before insert:--- [[], [15]]\n",
      "item_list before insert: []\n",
      "output: [[], [15]]\n",
      "small output: [[], [15]]\n",
      "before insert:--- [[], [15], [12]]\n",
      "item_list before insert: []\n",
      "item_list before insert: [15]\n",
      "just after append, output: [[], [15], [12], [12, 15]]\n",
      "output: [[], [15], [12], [12, 15]]\n",
      "small output: [[], [15], [12], [12, 15]]\n",
      "before insert:--- [[], [15], [12], [12, 15], [9]]\n",
      "item_list before insert: []\n",
      "item_list before insert: [15]\n",
      "just after append, output: [[], [15], [12], [12, 15], [9], [9, 15]]\n",
      "item_list before insert: [12]\n",
      "just after append, output: [[], [15], [12], [12, 15], [9], [9, 15], [9, 12]]\n",
      "item_list before insert: [12, 15]\n",
      "just after append, output: [[], [15], [12], [12, 15], [9], [9, 15], [9, 12], [9, 12, 15]]\n",
      "output: [[], [15], [12], [12, 15], [9], [9, 15], [9, 12], [9, 12, 15]]\n",
      "[[], [15], [12], [12, 15], [9], [9, 15], [9, 12], [9, 12, 15]]\n",
      "Pass\n"
     ]
    }
   ],
   "source": [
    "arr = [9, 12, 15]\n",
    "solution = [[], [15], [12], [12, 15], [9], [9, 15], [9, 12], [9, 12, 15]]\n",
    "\n",
    "test_case = [arr, solution]\n",
    "test_function(test_case)"
   ]
  },
  {
   "cell_type": "code",
   "execution_count": 144,
   "metadata": {
    "graffitiCellId": "id_4h3wfx7"
   },
   "outputs": [
    {
     "name": "stdout",
     "output_type": "stream",
     "text": [
      "[]\n",
      "small output: [[]]\n",
      "before insert:--- [[], [8]]\n",
      "item_list before insert: []\n",
      "output: [[], [8]]\n",
      "small output: [[], [8]]\n",
      "before insert:--- [[], [8], [9]]\n",
      "item_list before insert: []\n",
      "item_list before insert: [8]\n",
      "just after append, output: [[], [8], [9], [9, 8]]\n",
      "output: [[], [8], [9], [9, 8]]\n",
      "small output: [[], [8], [9], [9, 8]]\n",
      "before insert:--- [[], [8], [9], [9, 8], [8]]\n",
      "item_list before insert: []\n",
      "item_list before insert: [8]\n",
      "just after append, output: [[], [8], [9], [9, 8], [8], [8, 8]]\n",
      "item_list before insert: [9]\n",
      "just after append, output: [[], [8], [9], [9, 8], [8], [8, 8], [8, 9]]\n",
      "item_list before insert: [9, 8]\n",
      "just after append, output: [[], [8], [9], [9, 8], [8], [8, 8], [8, 9], [8, 9, 8]]\n",
      "output: [[], [8], [9], [9, 8], [8], [8, 8], [8, 9], [8, 9, 8]]\n",
      "small output: [[], [8], [9], [9, 8], [8], [8, 8], [8, 9], [8, 9, 8]]\n",
      "before insert:--- [[], [8], [9], [9, 8], [8], [8, 8], [8, 9], [8, 9, 8], [9]]\n",
      "item_list before insert: []\n",
      "item_list before insert: [8]\n",
      "just after append, output: [[], [8], [9], [9, 8], [8], [8, 8], [8, 9], [8, 9, 8], [9], [9, 8]]\n",
      "item_list before insert: [9]\n",
      "just after append, output: [[], [8], [9], [9, 8], [8], [8, 8], [8, 9], [8, 9, 8], [9], [9, 8], [9, 9]]\n",
      "item_list before insert: [9, 8]\n",
      "just after append, output: [[], [8], [9], [9, 8], [8], [8, 8], [8, 9], [8, 9, 8], [9], [9, 8], [9, 9], [9, 9, 8]]\n",
      "item_list before insert: [8]\n",
      "just after append, output: [[], [8], [9], [9, 8], [8], [8, 8], [8, 9], [8, 9, 8], [9], [9, 8], [9, 9], [9, 9, 8], [9, 8]]\n",
      "item_list before insert: [8, 8]\n",
      "just after append, output: [[], [8], [9], [9, 8], [8], [8, 8], [8, 9], [8, 9, 8], [9], [9, 8], [9, 9], [9, 9, 8], [9, 8], [9, 8, 8]]\n",
      "item_list before insert: [8, 9]\n",
      "just after append, output: [[], [8], [9], [9, 8], [8], [8, 8], [8, 9], [8, 9, 8], [9], [9, 8], [9, 9], [9, 9, 8], [9, 8], [9, 8, 8], [9, 8, 9]]\n",
      "item_list before insert: [8, 9, 8]\n",
      "just after append, output: [[], [8], [9], [9, 8], [8], [8, 8], [8, 9], [8, 9, 8], [9], [9, 8], [9, 9], [9, 9, 8], [9, 8], [9, 8, 8], [9, 8, 9], [9, 8, 9, 8]]\n",
      "output: [[], [8], [9], [9, 8], [8], [8, 8], [8, 9], [8, 9, 8], [9], [9, 8], [9, 9], [9, 9, 8], [9, 8], [9, 8, 8], [9, 8, 9], [9, 8, 9, 8]]\n",
      "[[], [8], [9], [9, 8], [8], [8, 8], [8, 9], [8, 9, 8], [9], [9, 8], [9, 9], [9, 9, 8], [9, 8], [9, 8, 8], [9, 8, 9], [9, 8, 9, 8]]\n",
      "Pass\n"
     ]
    }
   ],
   "source": [
    "arr = [9, 8, 9, 8]\n",
    "solution = [[],\n",
    "[8],\n",
    "[9],\n",
    "[9, 8],\n",
    "[8],\n",
    "[8, 8],\n",
    "[8, 9],\n",
    "[8, 9, 8],\n",
    "[9],\n",
    "[9, 8],\n",
    "[9, 9],\n",
    "[9, 9, 8],\n",
    "[9, 8],\n",
    "[9, 8, 8],\n",
    "[9, 8, 9],\n",
    "[9, 8, 9, 8]]\n",
    "\n",
    "test_case = [arr, solution]\n",
    "test_function(test_case)"
   ]
  },
  {
   "cell_type": "code",
   "execution_count": null,
   "metadata": {},
   "outputs": [],
   "source": []
  }
 ],
 "metadata": {
  "graffiti": {
   "firstAuthorId": "dev",
   "id": "id_0z6x8e1",
   "language": "EN"
  },
  "kernelspec": {
   "display_name": "Python 3",
   "language": "python",
   "name": "python3"
  },
  "language_info": {
   "codemirror_mode": {
    "name": "ipython",
    "version": 3
   },
   "file_extension": ".py",
   "mimetype": "text/x-python",
   "name": "python",
   "nbconvert_exporter": "python",
   "pygments_lexer": "ipython3",
   "version": "3.7.7"
  }
 },
 "nbformat": 4,
 "nbformat_minor": 2
}
