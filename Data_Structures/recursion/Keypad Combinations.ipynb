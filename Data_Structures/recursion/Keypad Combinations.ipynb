{
 "cells": [
  {
   "cell_type": "markdown",
   "metadata": {
    "graffitiCellId": "id_twe5ety"
   },
   "source": [
    "## Keypad Combinations\n",
    "\n",
    "A keypad on a cellphone has alphabets for all numbers between 2 and 9, as shown in the figure below:\n",
    "\n",
    "<img style=\"float: center;height:200px;\" src=\"Keypad.png\"><br>\n",
    "\n",
    "You can make different combinations of alphabets by pressing the numbers.\n",
    "\n",
    "For example, if you press 23, the following combinations are possible:\n",
    "\n",
    "`ad, ae, af, bd, be, bf, cd, ce, cf`\n",
    "\n",
    "Note that because 2 is pressed before 3, the first letter is always an alphabet on the number 2.\n",
    "Likewise, if the user types 32, the order would be\n",
    "\n",
    "`da, db, dc, ea, eb, ec, fa, fb, fc`\n",
    "\n",
    "\n",
    "Given an integer `num`, find out all the possible strings that can be made using digits of input `num`. \n",
    "Return these strings in a list. The order of strings in the list does not matter. However, as stated earlier, the order of letters in a particular string matters."
   ]
  },
  {
   "cell_type": "code",
   "execution_count": 58,
   "metadata": {
    "graffitiCellId": "id_ffyjq5w"
   },
   "outputs": [],
   "source": [
    "def get_characters(num):\n",
    "    if num == 2:\n",
    "        return \"abc\"\n",
    "    elif num == 3:\n",
    "        return \"def\"\n",
    "    elif num == 4:\n",
    "        return \"ghi\"\n",
    "    elif num == 5:\n",
    "        return \"jkl\"\n",
    "    elif num == 6:\n",
    "        return \"mno\"\n",
    "    elif num == 7:\n",
    "        return \"pqrs\"\n",
    "    elif num == 8:\n",
    "        return \"tuv\"\n",
    "    elif num == 9:\n",
    "        return \"wxyz\"\n",
    "    else:\n",
    "        return \"\"\n",
    "\n",
    "\n",
    "def keypad(num):\n",
    "    \n",
    "    # TODO: Write your keypad solution here!\n",
    "    # base condition\n",
    "    print(\"----kepad method----\")\n",
    "    substring_list = []\n",
    "    if len(str(num)) == 1:\n",
    "        print(num)\n",
    "        substring_list[:0] = get_characters(num)\n",
    "        if substring_list == []:\n",
    "            return [\"\"]\n",
    "    else:\n",
    "        first_num = int(str(num)[0])  #1234 -> 1, 234\n",
    "        rest_num = int(str(num)[1:])\n",
    "        #print(first_num, rest_num)\n",
    "        prepend_char = get_characters(first_num)\n",
    "        \n",
    "        #print(prepend_char)\n",
    "        old_substring_list = keypad(rest_num)\n",
    "        print(\"substring_list:\",substring_list)\n",
    "        for substring in old_substring_list:\n",
    "            print(substring)\n",
    "            for char in prepend_char:\n",
    "                print(char)\n",
    "                new_string = char + substring\n",
    "                print(new_string)\n",
    "                substring_list.append(new_string)\n",
    "    print(substring_list)\n",
    "    return substring_list\n"
   ]
  },
  {
   "cell_type": "code",
   "execution_count": 64,
   "metadata": {},
   "outputs": [
    {
     "name": "stdout",
     "output_type": "stream",
     "text": [
      "a\n",
      "b\n",
      "c\n",
      "d\n"
     ]
    },
    {
     "data": {
      "text/plain": [
       "['a', 'b', 'c', 'd']"
      ]
     },
     "execution_count": 64,
     "metadata": {},
     "output_type": "execute_result"
    }
   ],
   "source": [
    "st = \"abcd\"\n",
    "list1 = [] \n",
    "list1[:0] = st\n",
    "list1\n",
    "for char in st:\n",
    "    print(char)\n",
    "inte =1234\n",
    "int(str(inte)[1:])\n",
    "list1.append(st)\n",
    "list(st)"
   ]
  },
  {
   "cell_type": "code",
   "execution_count": null,
   "metadata": {},
   "outputs": [],
   "source": []
  },
  {
   "cell_type": "markdown",
   "metadata": {
    "graffitiCellId": "id_9ibtd5w"
   },
   "source": [
    "<span class=\"graffiti-highlight graffiti-id_9ibtd5w-id_haj1ksk\"><i></i><button>Show Solution</button></span>"
   ]
  },
  {
   "cell_type": "code",
   "execution_count": 53,
   "metadata": {
    "graffitiCellId": "id_l66zrar"
   },
   "outputs": [],
   "source": [
    "def test_keypad(input, expected_output):\n",
    "    if sorted(keypad(input)) == expected_output:\n",
    "        print(\"Yay. We got it right.\")\n",
    "    else:\n",
    "        print(\"Oops! That was incorrect.\")"
   ]
  },
  {
   "cell_type": "code",
   "execution_count": 59,
   "metadata": {
    "graffitiCellId": "id_vnyax73"
   },
   "outputs": [
    {
     "name": "stdout",
     "output_type": "stream",
     "text": [
      "----kepad method----\n",
      "0\n",
      "Yay. We got it right.\n"
     ]
    }
   ],
   "source": [
    "# Base case: list with empty string\n",
    "input = 0\n",
    "expected_output = [\"\"]\n",
    "test_keypad(input, expected_output)"
   ]
  },
  {
   "cell_type": "code",
   "execution_count": 60,
   "metadata": {
    "graffitiCellId": "id_458su6i"
   },
   "outputs": [
    {
     "name": "stdout",
     "output_type": "stream",
     "text": [
      "----kepad method----\n",
      "----kepad method----\n",
      "3\n",
      "['d', 'e', 'f']\n",
      "substring_list: []\n",
      "d\n",
      "a\n",
      "ad\n",
      "b\n",
      "bd\n",
      "c\n",
      "cd\n",
      "e\n",
      "a\n",
      "ae\n",
      "b\n",
      "be\n",
      "c\n",
      "ce\n",
      "f\n",
      "a\n",
      "af\n",
      "b\n",
      "bf\n",
      "c\n",
      "cf\n",
      "['ad', 'bd', 'cd', 'ae', 'be', 'ce', 'af', 'bf', 'cf']\n",
      "Yay. We got it right.\n"
     ]
    }
   ],
   "source": [
    "# Example case\n",
    "input = 23\n",
    "expected_output = sorted([\"ad\", \"ae\", \"af\", \"bd\", \"be\", \"bf\", \"cd\", \"ce\", \"cf\"])\n",
    "test_keypad(input, expected_output)"
   ]
  },
  {
   "cell_type": "code",
   "execution_count": 61,
   "metadata": {
    "graffitiCellId": "id_j04lazf"
   },
   "outputs": [
    {
     "name": "stdout",
     "output_type": "stream",
     "text": [
      "----kepad method----\n",
      "----kepad method----\n",
      "2\n",
      "['a', 'b', 'c']\n",
      "substring_list: []\n",
      "a\n",
      "d\n",
      "da\n",
      "e\n",
      "ea\n",
      "f\n",
      "fa\n",
      "b\n",
      "d\n",
      "db\n",
      "e\n",
      "eb\n",
      "f\n",
      "fb\n",
      "c\n",
      "d\n",
      "dc\n",
      "e\n",
      "ec\n",
      "f\n",
      "fc\n",
      "['da', 'ea', 'fa', 'db', 'eb', 'fb', 'dc', 'ec', 'fc']\n",
      "Yay. We got it right.\n"
     ]
    }
   ],
   "source": [
    "# Example case\n",
    "input = 32\n",
    "expected_output = sorted([\"da\", \"db\", \"dc\", \"ea\", \"eb\", \"ec\", \"fa\", \"fb\", \"fc\"])\n",
    "test_keypad(input, expected_output)"
   ]
  },
  {
   "cell_type": "code",
   "execution_count": 62,
   "metadata": {
    "graffitiCellId": "id_4ziwk7w"
   },
   "outputs": [
    {
     "name": "stdout",
     "output_type": "stream",
     "text": [
      "----kepad method----\n",
      "8\n",
      "['t', 'u', 'v']\n",
      "Yay. We got it right.\n"
     ]
    }
   ],
   "source": [
    "# Example case\n",
    "input = 8\n",
    "expected_output = sorted([\"t\", \"u\", \"v\"])\n",
    "test_keypad(input, expected_output)"
   ]
  },
  {
   "cell_type": "code",
   "execution_count": 63,
   "metadata": {
    "graffitiCellId": "id_u7fe0h1"
   },
   "outputs": [
    {
     "name": "stdout",
     "output_type": "stream",
     "text": [
      "----kepad method----\n",
      "----kepad method----\n",
      "----kepad method----\n",
      "4\n",
      "['g', 'h', 'i']\n",
      "substring_list: []\n",
      "g\n",
      "j\n",
      "jg\n",
      "k\n",
      "kg\n",
      "l\n",
      "lg\n",
      "h\n",
      "j\n",
      "jh\n",
      "k\n",
      "kh\n",
      "l\n",
      "lh\n",
      "i\n",
      "j\n",
      "ji\n",
      "k\n",
      "ki\n",
      "l\n",
      "li\n",
      "['jg', 'kg', 'lg', 'jh', 'kh', 'lh', 'ji', 'ki', 'li']\n",
      "substring_list: []\n",
      "jg\n",
      "d\n",
      "djg\n",
      "e\n",
      "ejg\n",
      "f\n",
      "fjg\n",
      "kg\n",
      "d\n",
      "dkg\n",
      "e\n",
      "ekg\n",
      "f\n",
      "fkg\n",
      "lg\n",
      "d\n",
      "dlg\n",
      "e\n",
      "elg\n",
      "f\n",
      "flg\n",
      "jh\n",
      "d\n",
      "djh\n",
      "e\n",
      "ejh\n",
      "f\n",
      "fjh\n",
      "kh\n",
      "d\n",
      "dkh\n",
      "e\n",
      "ekh\n",
      "f\n",
      "fkh\n",
      "lh\n",
      "d\n",
      "dlh\n",
      "e\n",
      "elh\n",
      "f\n",
      "flh\n",
      "ji\n",
      "d\n",
      "dji\n",
      "e\n",
      "eji\n",
      "f\n",
      "fji\n",
      "ki\n",
      "d\n",
      "dki\n",
      "e\n",
      "eki\n",
      "f\n",
      "fki\n",
      "li\n",
      "d\n",
      "dli\n",
      "e\n",
      "eli\n",
      "f\n",
      "fli\n",
      "['djg', 'ejg', 'fjg', 'dkg', 'ekg', 'fkg', 'dlg', 'elg', 'flg', 'djh', 'ejh', 'fjh', 'dkh', 'ekh', 'fkh', 'dlh', 'elh', 'flh', 'dji', 'eji', 'fji', 'dki', 'eki', 'fki', 'dli', 'eli', 'fli']\n",
      "Yay. We got it right.\n"
     ]
    }
   ],
   "source": [
    "input = 354\n",
    "expected_output = sorted([\"djg\", \"ejg\", \"fjg\", \"dkg\", \"ekg\", \"fkg\", \"dlg\", \"elg\", \"flg\", \"djh\", \"ejh\", \"fjh\", \"dkh\", \"ekh\", \"fkh\", \"dlh\", \"elh\", \"flh\", \"dji\", \"eji\", \"fji\", \"dki\", \"eki\", \"fki\", \"dli\", \"eli\", \"fli\"])\n",
    "test_keypad(input, expected_output)"
   ]
  },
  {
   "cell_type": "code",
   "execution_count": null,
   "metadata": {},
   "outputs": [],
   "source": []
  }
 ],
 "metadata": {
  "graffiti": {
   "firstAuthorId": "10694620118",
   "id": "id_c01kx0l",
   "language": "EN"
  },
  "kernelspec": {
   "display_name": "Python 3",
   "language": "python",
   "name": "python3"
  },
  "language_info": {
   "codemirror_mode": {
    "name": "ipython",
    "version": 3
   },
   "file_extension": ".py",
   "mimetype": "text/x-python",
   "name": "python",
   "nbconvert_exporter": "python",
   "pygments_lexer": "ipython3",
   "version": "3.7.7"
  }
 },
 "nbformat": 4,
 "nbformat_minor": 2
}
